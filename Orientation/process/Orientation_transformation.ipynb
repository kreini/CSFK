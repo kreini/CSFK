{
 "cells": [
  {
   "cell_type": "markdown",
   "id": "50e16e53",
   "metadata": {},
   "source": [
    "## Transform orientation between RA-DEC-ROLL, SO(3) matrices and Quaternions"
   ]
  },
  {
   "cell_type": "code",
   "execution_count": 1,
   "id": "166d9691",
   "metadata": {},
   "outputs": [],
   "source": [
    "# import packages\n",
    "\n",
    "import numpy as np\n",
    "import plotly.graph_objs as go\n",
    "\n",
    "# print matrices\n",
    "\n",
    "def printm(M):\n",
    "    print(\"R =\\t\", M[0][0], '\\t', M[0][1], '\\t', M[0][2])\n",
    "    print('\\t', M[1][0], '\\t', M[1][1], '\\t', M[1][2])\n",
    "    print('\\t', M[2][0], '\\t', M[2][1], '\\t', M[2][2])\n",
    "    \n",
    "# print vectors\n",
    "\n",
    "def printv(V):\n",
    "    print(\"p =\\t\", V[0])\n",
    "    print('\\t', V[1])\n",
    "    print('\\t', V[2])"
   ]
  },
  {
   "cell_type": "markdown",
   "id": "8bef024e",
   "metadata": {},
   "source": [
    "##### Orientation input of different forms"
   ]
  },
  {
   "cell_type": "code",
   "execution_count": 2,
   "id": "b3f4e1d6",
   "metadata": {},
   "outputs": [],
   "source": [
    "# RA-DEC-ROLL\n",
    "\n",
    "ra = 0.34\n",
    "dec = 0.19\n",
    "roll = 0.78\n",
    "\n",
    "# SO(3) matrix\n",
    "\n",
    "R = [[-0.04435591360376488, 0.34926122321939446, 0.9359749734280653],\n",
    "     [-0.22642312284119023, -0.9160309672169911, 0.33108886502319457],\n",
    "     [0.9730185621925301, -0.19724062729264522, 0.11971220728891936]]\n",
    "\n",
    "# Quaternion\n",
    "\n",
    "qr = 0.46207942930874324\n",
    "qi = -0.6078499406794751\n",
    "qj = -0.0825619160914830\n",
    "qk = -0.6404565407870916"
   ]
  },
  {
   "cell_type": "markdown",
   "id": "628073e1",
   "metadata": {},
   "source": [
    "#### Transformations"
   ]
  },
  {
   "cell_type": "code",
   "execution_count": 3,
   "id": "79f73e2a",
   "metadata": {},
   "outputs": [
    {
     "name": "stdout",
     "output_type": "stream",
     "text": [
      "R =\t 0.10795815611744974 \t 0.36229770434353303 \t 0.9257890742254016\n",
      "\t -0.7077947127102862 \t -0.6259231077586402 \t 0.3274857368392231\n",
      "\t 0.6981201051302588 \t -0.6906233681256169 \t 0.18885889497650057\n"
     ]
    }
   ],
   "source": [
    "# RA-DEC-ROLL --> SO(3) matrix\n",
    "\n",
    "xx = -np.cos(ra)*np.sin(dec)*np.cos(roll)+np.sin(ra)*np.sin(roll)\n",
    "xy = np.cos(ra)*np.sin(dec)*np.sin(roll)+np.sin(ra)*np.cos(roll)\n",
    "xz = np.cos(ra)*np.cos(dec)\n",
    "yx = -np.sin(ra)*np.sin(dec)*np.cos(roll)-np.cos(ra)*np.sin(roll)\n",
    "yy = np.sin(ra)*np.sin(dec)*np.sin(roll)-np.cos(ra)*np.cos(roll)\n",
    "yz = np.sin(ra)*np.cos(dec)\n",
    "zx = np.cos(dec)*np.cos(roll)\n",
    "zy = -np.cos(dec)*np.sin(roll)\n",
    "zz = np.sin(dec)\n",
    "\n",
    "R = [[xx, xy, xz],\n",
    "     [yx, yy, yz],\n",
    "     [zx, zy, zz]]\n",
    "\n",
    "printm(R)"
   ]
  },
  {
   "cell_type": "code",
   "execution_count": 4,
   "id": "bc243fd3",
   "metadata": {},
   "outputs": [
    {
     "name": "stdout",
     "output_type": "stream",
     "text": [
      "q = ( 0.40954057898311796 , -0.6214946437620338 , 0.1389782727150267 , -0.6532273430088661 )\n"
     ]
    }
   ],
   "source": [
    "# RA-DEC-ROLL --> Quaternion\n",
    "\n",
    "qr = (np.sqrt(1+(-np.cos(ra)*np.sin(dec)*np.cos(roll)+np.sin(ra)*np.sin(roll))+(np.sin(ra)*np.sin(dec)*np.sin(roll)-np.cos(ra)*np.cos(roll))+np.sin(dec)))/2\n",
    "qi = (-np.cos(dec)*np.sin(roll) - np.sin(ra)*np.cos(dec))/(2*np.sqrt(1+(-np.cos(ra)*np.sin(dec)*np.cos(roll)+np.sin(ra)*np.sin(roll))+(np.sin(ra)*np.sin(dec)*np.sin(roll)-np.cos(ra)*np.cos(roll))+np.sin(dec)))\n",
    "qj = (np.cos(ra)*np.cos(dec) - np.cos(dec)*np.cos(roll))/(2*np.sqrt(1+(-np.cos(ra)*np.sin(dec)*np.cos(roll)+np.sin(ra)*np.sin(roll))+(np.sin(ra)*np.sin(dec)*np.sin(roll)-np.cos(ra)*np.cos(roll))+np.sin(dec)))\n",
    "qk = (-np.sin(ra)*np.sin(dec)*np.cos(roll)-np.cos(ra)*np.sin(roll)-(np.cos(ra)*np.sin(dec)*np.sin(roll)+np.sin(ra)*np.cos(roll)))/(2*np.sqrt(1+(-np.cos(ra)*np.sin(dec)*np.cos(roll)+np.sin(ra)*np.sin(roll))+(np.sin(ra)*np.sin(dec)*np.sin(roll)-np.cos(ra)*np.cos(roll))+np.sin(dec)))\n",
    "\n",
    "print(\"q = (\", qr, ',', qi, ',', qj, ',', qk, \")\")"
   ]
  },
  {
   "cell_type": "code",
   "execution_count": 5,
   "id": "4c26dba2",
   "metadata": {},
   "outputs": [
    {
     "name": "stdout",
     "output_type": "stream",
     "text": [
      "q = ( 0.40954057898311796 , -0.6214946437620338 , 0.1389782727150267 , -0.6532273430088661 )\n"
     ]
    }
   ],
   "source": [
    "# SO(3) matrix --> Quaternion\n",
    "\n",
    "qr = (np.sqrt(1+R[0][0]+R[1][1]+R[2][2]))/2\n",
    "qi = (R[2][1] - R[1][2])/(2*np.sqrt(1+R[0][0]+R[1][1]+R[2][2]))\n",
    "qj = (R[0][2] - R[2][0])/(2*np.sqrt(1+R[0][0]+R[1][1]+R[2][2]))\n",
    "qk = (R[1][0] - R[0][1])/(2*np.sqrt(1+R[0][0]+R[1][1]+R[2][2]))\n",
    "\n",
    "print(\"q = (\", qr, ',', qi, ',', qj, ',', qk, \")\")"
   ]
  },
  {
   "cell_type": "code",
   "execution_count": 6,
   "id": "291b6dfb",
   "metadata": {},
   "outputs": [
    {
     "name": "stdout",
     "output_type": "stream",
     "text": [
      "0.34 \t 0.19 \t 0.78\n"
     ]
    }
   ],
   "source": [
    "# SO(3) matrix --> RA-DEC-ROLL\n",
    "\n",
    "ra = np.arctan2(R[1][2], R[0][2])   # arg(a, b) = arg(a + bi) = atan2(b, a)\n",
    "dec = np.arcsin(R[2][2])\n",
    "roll = np.arctan2(-R[2][1], R[2][0])\n",
    "\n",
    "print(ra, '\\t', dec, '\\t', roll)"
   ]
  },
  {
   "cell_type": "code",
   "execution_count": 7,
   "id": "807bb0bf",
   "metadata": {},
   "outputs": [
    {
     "name": "stdout",
     "output_type": "stream",
     "text": [
      "0.3399999999999999 \t 0.1900000000000001 \t 0.78\n"
     ]
    }
   ],
   "source": [
    "# Quaternion --> RA-DEC-ROLL\n",
    "\n",
    "ra = np.arctan2(qj*qk - qi*qr, qi*qk + qj*qr)\n",
    "dec = np.arcsin(qr**2 + qk**2 - qi**2 - qj**2)\n",
    "roll = np.arctan2(-qj*qk - qi*qr, qi*qk - qj*qr)\n",
    "\n",
    "print(ra, '\\t', dec, '\\t', roll)"
   ]
  },
  {
   "cell_type": "code",
   "execution_count": 8,
   "id": "7ef95fac",
   "metadata": {},
   "outputs": [
    {
     "name": "stdout",
     "output_type": "stream",
     "text": [
      "R =\t 0.10795815611744974 \t 0.36229770434353303 \t 0.9257890742254016\n",
      "\t -0.7077947127102863 \t -0.6259231077586402 \t 0.327485736839223\n",
      "\t 0.6981201051302588 \t -0.6906233681256169 \t 0.18885889497650077\n"
     ]
    }
   ],
   "source": [
    "# Quaternion --> SO(3) matrix\n",
    "\n",
    "xx = 1 - 2*(qj**2 + qk**2)\n",
    "xy = 2*(qi*qj - qk*qr)\n",
    "xz = 2*(qi*qk + qj*qr)\n",
    "yx = 2*(qi*qj + qk*qr)\n",
    "yy = 1 - 2*(qi**2 + qk**2)\n",
    "yz = 2*(qj*qk - qi*qr)\n",
    "zx = 2*(qi*qk - qj*qr)\n",
    "zy = 2*(qj*qk+qi*qr)\n",
    "zz = 1 - 2*(qi**2 + qj**2)\n",
    "\n",
    "R = [[xx, xy, xz],\n",
    "     [yx, yy, yz],\n",
    "     [zx, zy, zz]]\n",
    "\n",
    "printm(R)"
   ]
  },
  {
   "cell_type": "markdown",
   "id": "198a0edb",
   "metadata": {},
   "source": [
    "#### Pointing Vector (z+)"
   ]
  },
  {
   "cell_type": "code",
   "execution_count": 9,
   "id": "760deb66",
   "metadata": {},
   "outputs": [
    {
     "name": "stdout",
     "output_type": "stream",
     "text": [
      "p =\t [0.92578907]\n",
      "\t [0.32748574]\n",
      "\t [0.18885889]\n"
     ]
    }
   ],
   "source": [
    "I = [[0], [0], [1]]\n",
    "p = np.dot(R, I)     # vectorial multiplication\n",
    "\n",
    "printv(p)"
   ]
  }
 ],
 "metadata": {
  "kernelspec": {
   "display_name": "Python 3 (ipykernel)",
   "language": "python",
   "name": "python3"
  },
  "language_info": {
   "codemirror_mode": {
    "name": "ipython",
    "version": 3
   },
   "file_extension": ".py",
   "mimetype": "text/x-python",
   "name": "python",
   "nbconvert_exporter": "python",
   "pygments_lexer": "ipython3",
   "version": "3.8.10"
  }
 },
 "nbformat": 4,
 "nbformat_minor": 5
}
