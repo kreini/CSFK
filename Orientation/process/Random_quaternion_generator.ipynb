{
 "cells": [
  {
   "cell_type": "markdown",
   "id": "d60a6532",
   "metadata": {},
   "source": [
    "## Random quaternion generator"
   ]
  },
  {
   "cell_type": "code",
   "execution_count": 25,
   "id": "92fe7072",
   "metadata": {},
   "outputs": [],
   "source": [
    "# import packages\n",
    "\n",
    "import numpy as np\n",
    "import random"
   ]
  },
  {
   "cell_type": "code",
   "execution_count": 29,
   "id": "49e84a05",
   "metadata": {},
   "outputs": [
    {
     "name": "stdout",
     "output_type": "stream",
     "text": [
      "0.983 \t 0.818 \t 0.539\n"
     ]
    }
   ],
   "source": [
    "# random parameter generator\n",
    "\n",
    "u1 = float(random.randint(0, 1000) / 1000)\n",
    "u2 = float(random.randint(0, 1000) / 1000)\n",
    "u3 = float(random.randint(0, 1000) / 1000)\n",
    "\n",
    "print(u1, '\\t', u2, '\\t', u3)"
   ]
  },
  {
   "cell_type": "code",
   "execution_count": 30,
   "id": "5aacee82",
   "metadata": {},
   "outputs": [
    {
     "name": "stdout",
     "output_type": "stream",
     "text": [
      "h =\t[ -0.11866330066157836 \t 0.05402796568537326 \t -0.24052829814227794 \t -0.9618451735039166 ]\n"
     ]
    }
   ],
   "source": [
    "# algorithm to generate quaternion\n",
    "\n",
    "h1 = np.sqrt(1-u1)*np.sin(2*np.pi*u2)\n",
    "h2 = np.sqrt(1-u1)*np.cos(2*np.pi*u2)\n",
    "h3 = np.sqrt(u1)*np.sin(2*np.pi*u3)\n",
    "h4 = np.sqrt(u1)*np.cos(2*np.pi*u3)\n",
    "\n",
    "print(\"h =\\t[\", h1, '\\t', h2, '\\t', h3, '\\t', h4, \"]\")"
   ]
  }
 ],
 "metadata": {
  "kernelspec": {
   "display_name": "Python 3 (ipykernel)",
   "language": "python",
   "name": "python3"
  },
  "language_info": {
   "codemirror_mode": {
    "name": "ipython",
    "version": 3
   },
   "file_extension": ".py",
   "mimetype": "text/x-python",
   "name": "python",
   "nbconvert_exporter": "python",
   "pygments_lexer": "ipython3",
   "version": "3.8.10"
  }
 },
 "nbformat": 4,
 "nbformat_minor": 5
}
